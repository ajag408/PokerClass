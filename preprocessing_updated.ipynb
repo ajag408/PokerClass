{
  "nbformat": 4,
  "nbformat_minor": 0,
  "metadata": {
    "kernelspec": {
      "display_name": "Python 3",
      "language": "python",
      "name": "python3"
    },
    "language_info": {
      "codemirror_mode": {
        "name": "ipython",
        "version": 3
      },
      "file_extension": ".py",
      "mimetype": "text/x-python",
      "name": "python",
      "nbconvert_exporter": "python",
      "pygments_lexer": "ipython3",
      "version": "3.8.3"
    },
    "colab": {
      "name": "preprocessing_updated.ipynb",
      "provenance": [],
      "collapsed_sections": [],
      "include_colab_link": true
    }
  },
  "cells": [
    {
      "cell_type": "markdown",
      "metadata": {
        "id": "view-in-github",
        "colab_type": "text"
      },
      "source": [
        "<a href=\"https://colab.research.google.com/github/ajag408/PokerClass/blob/main/preprocessing_updated.ipynb\" target=\"_parent\"><img src=\"https://colab.research.google.com/assets/colab-badge.svg\" alt=\"Open In Colab\"/></a>"
      ]
    },
    {
      "cell_type": "code",
      "metadata": {
        "id": "4NEO4J9HrAyn"
      },
      "source": [
        "from google.colab import drive\n",
        "import warnings\n",
        "warnings.filterwarnings('ignore')"
      ],
      "execution_count": 73,
      "outputs": []
    },
    {
      "cell_type": "markdown",
      "metadata": {
        "id": "oi41jnXrXn4j"
      },
      "source": [
        "#### use this to mount your drive"
      ]
    },
    {
      "cell_type": "code",
      "metadata": {
        "colab": {
          "base_uri": "https://localhost:8080/"
        },
        "id": "osLbFXlbXjK7",
        "outputId": "a009034e-f536-46fe-d7b4-b50814e71e34"
      },
      "source": [
        "drive.mount('/content/drive')"
      ],
      "execution_count": 2,
      "outputs": [
        {
          "output_type": "stream",
          "text": [
            "Mounted at /content/drive\n"
          ],
          "name": "stdout"
        }
      ]
    },
    {
      "cell_type": "markdown",
      "metadata": {
        "id": "d_j9tZJ0Xr4g"
      },
      "source": [
        "####  %cd into /content/drive/Shared\\ drives/255Project/PokerClass   (u have to use % in front of command)\n",
        "\n",
        "#### when saving changes, click on File -> Save a copy in GitHub.  Repo is \"swetha1695/PokerClassification\" and branch is \"main\""
      ]
    },
    {
      "cell_type": "code",
      "metadata": {
        "id": "ZsCe7YqSrSj2",
        "colab": {
          "base_uri": "https://localhost:8080/"
        },
        "outputId": "6ff4c4d3-1f7a-4e7f-b232-df6bc71b7356"
      },
      "source": [
        "%cd  /content/drive/Shared\\ drives/255Project/PokerClass"
      ],
      "execution_count": 3,
      "outputs": [
        {
          "output_type": "stream",
          "text": [
            "/content/drive/Shared drives/255Project/PokerClass\n"
          ],
          "name": "stdout"
        }
      ]
    },
    {
      "cell_type": "code",
      "metadata": {
        "colab": {
          "base_uri": "https://localhost:8080/"
        },
        "id": "o-ctzVaAtz3u",
        "outputId": "212a3f62-5158-4fc0-b847-1643680d4d22"
      },
      "source": [
        "!pwd"
      ],
      "execution_count": 4,
      "outputs": [
        {
          "output_type": "stream",
          "text": [
            "/content/drive/Shared drives/255Project/PokerClass\n"
          ],
          "name": "stdout"
        }
      ]
    },
    {
      "cell_type": "markdown",
      "metadata": {
        "id": "21dpo0M5X_6k"
      },
      "source": [
        "# Preprocessing\n"
      ]
    },
    {
      "cell_type": "code",
      "metadata": {
        "id": "1skIVc-QX-_5"
      },
      "source": [
        "import numpy as np\n",
        "import pandas as pd\n",
        "from collections import Counter\n",
        "\n",
        "from sklearn import feature_selection\n",
        "import matplotlib.pyplot as plt\n",
        "import seaborn as sns\n",
        "from sklearn.preprocessing import StandardScaler\n",
        "from imblearn.over_sampling import SMOTE"
      ],
      "execution_count": 78,
      "outputs": []
    },
    {
      "cell_type": "code",
      "metadata": {
        "id": "VeZY70YLp2Uk",
        "colab": {
          "base_uri": "https://localhost:8080/",
          "height": 204
        },
        "outputId": "957ba1ba-7c28-404e-9e7d-7ec8613b8355"
      },
      "source": [
        "train = pd.read_csv('./Data/poker-hand-training-true.data', delimiter=\",\", dtype=int)\n",
        "train.columns = ['S1', 'C1', 'S2', 'C2', 'S3', 'C3', 'S4', 'C4', 'S5', 'C5', 'CLASS']\n",
        "#print(train)\n",
        "train.head()\n"
      ],
      "execution_count": 79,
      "outputs": [
        {
          "output_type": "execute_result",
          "data": {
            "text/html": [
              "<div>\n",
              "<style scoped>\n",
              "    .dataframe tbody tr th:only-of-type {\n",
              "        vertical-align: middle;\n",
              "    }\n",
              "\n",
              "    .dataframe tbody tr th {\n",
              "        vertical-align: top;\n",
              "    }\n",
              "\n",
              "    .dataframe thead th {\n",
              "        text-align: right;\n",
              "    }\n",
              "</style>\n",
              "<table border=\"1\" class=\"dataframe\">\n",
              "  <thead>\n",
              "    <tr style=\"text-align: right;\">\n",
              "      <th></th>\n",
              "      <th>S1</th>\n",
              "      <th>C1</th>\n",
              "      <th>S2</th>\n",
              "      <th>C2</th>\n",
              "      <th>S3</th>\n",
              "      <th>C3</th>\n",
              "      <th>S4</th>\n",
              "      <th>C4</th>\n",
              "      <th>S5</th>\n",
              "      <th>C5</th>\n",
              "      <th>CLASS</th>\n",
              "    </tr>\n",
              "  </thead>\n",
              "  <tbody>\n",
              "    <tr>\n",
              "      <th>0</th>\n",
              "      <td>2</td>\n",
              "      <td>11</td>\n",
              "      <td>2</td>\n",
              "      <td>13</td>\n",
              "      <td>2</td>\n",
              "      <td>10</td>\n",
              "      <td>2</td>\n",
              "      <td>12</td>\n",
              "      <td>2</td>\n",
              "      <td>1</td>\n",
              "      <td>9</td>\n",
              "    </tr>\n",
              "    <tr>\n",
              "      <th>1</th>\n",
              "      <td>3</td>\n",
              "      <td>12</td>\n",
              "      <td>3</td>\n",
              "      <td>11</td>\n",
              "      <td>3</td>\n",
              "      <td>13</td>\n",
              "      <td>3</td>\n",
              "      <td>10</td>\n",
              "      <td>3</td>\n",
              "      <td>1</td>\n",
              "      <td>9</td>\n",
              "    </tr>\n",
              "    <tr>\n",
              "      <th>2</th>\n",
              "      <td>4</td>\n",
              "      <td>10</td>\n",
              "      <td>4</td>\n",
              "      <td>11</td>\n",
              "      <td>4</td>\n",
              "      <td>1</td>\n",
              "      <td>4</td>\n",
              "      <td>13</td>\n",
              "      <td>4</td>\n",
              "      <td>12</td>\n",
              "      <td>9</td>\n",
              "    </tr>\n",
              "    <tr>\n",
              "      <th>3</th>\n",
              "      <td>4</td>\n",
              "      <td>1</td>\n",
              "      <td>4</td>\n",
              "      <td>13</td>\n",
              "      <td>4</td>\n",
              "      <td>12</td>\n",
              "      <td>4</td>\n",
              "      <td>11</td>\n",
              "      <td>4</td>\n",
              "      <td>10</td>\n",
              "      <td>9</td>\n",
              "    </tr>\n",
              "    <tr>\n",
              "      <th>4</th>\n",
              "      <td>1</td>\n",
              "      <td>2</td>\n",
              "      <td>1</td>\n",
              "      <td>4</td>\n",
              "      <td>1</td>\n",
              "      <td>5</td>\n",
              "      <td>1</td>\n",
              "      <td>3</td>\n",
              "      <td>1</td>\n",
              "      <td>6</td>\n",
              "      <td>8</td>\n",
              "    </tr>\n",
              "  </tbody>\n",
              "</table>\n",
              "</div>"
            ],
            "text/plain": [
              "   S1  C1  S2  C2  S3  C3  S4  C4  S5  C5  CLASS\n",
              "0   2  11   2  13   2  10   2  12   2   1      9\n",
              "1   3  12   3  11   3  13   3  10   3   1      9\n",
              "2   4  10   4  11   4   1   4  13   4  12      9\n",
              "3   4   1   4  13   4  12   4  11   4  10      9\n",
              "4   1   2   1   4   1   5   1   3   1   6      8"
            ]
          },
          "metadata": {
            "tags": []
          },
          "execution_count": 79
        }
      ]
    },
    {
      "cell_type": "code",
      "metadata": {
        "colab": {
          "base_uri": "https://localhost:8080/",
          "height": 317
        },
        "id": "XXzpthPoUm9G",
        "outputId": "39ab85d8-d373-4b8b-a189-2279c7bb7a03"
      },
      "source": [
        "train.describe()"
      ],
      "execution_count": 80,
      "outputs": [
        {
          "output_type": "execute_result",
          "data": {
            "text/html": [
              "<div>\n",
              "<style scoped>\n",
              "    .dataframe tbody tr th:only-of-type {\n",
              "        vertical-align: middle;\n",
              "    }\n",
              "\n",
              "    .dataframe tbody tr th {\n",
              "        vertical-align: top;\n",
              "    }\n",
              "\n",
              "    .dataframe thead th {\n",
              "        text-align: right;\n",
              "    }\n",
              "</style>\n",
              "<table border=\"1\" class=\"dataframe\">\n",
              "  <thead>\n",
              "    <tr style=\"text-align: right;\">\n",
              "      <th></th>\n",
              "      <th>S1</th>\n",
              "      <th>C1</th>\n",
              "      <th>S2</th>\n",
              "      <th>C2</th>\n",
              "      <th>S3</th>\n",
              "      <th>C3</th>\n",
              "      <th>S4</th>\n",
              "      <th>C4</th>\n",
              "      <th>S5</th>\n",
              "      <th>C5</th>\n",
              "      <th>CLASS</th>\n",
              "    </tr>\n",
              "  </thead>\n",
              "  <tbody>\n",
              "    <tr>\n",
              "      <th>count</th>\n",
              "      <td>25009.000000</td>\n",
              "      <td>25009.000000</td>\n",
              "      <td>25009.000000</td>\n",
              "      <td>25009.000000</td>\n",
              "      <td>25009.000000</td>\n",
              "      <td>25009.000000</td>\n",
              "      <td>25009.000000</td>\n",
              "      <td>25009.000000</td>\n",
              "      <td>25009.000000</td>\n",
              "      <td>25009.000000</td>\n",
              "      <td>25009.000000</td>\n",
              "    </tr>\n",
              "    <tr>\n",
              "      <th>mean</th>\n",
              "      <td>2.508817</td>\n",
              "      <td>6.995122</td>\n",
              "      <td>2.497781</td>\n",
              "      <td>7.014035</td>\n",
              "      <td>2.510296</td>\n",
              "      <td>7.013915</td>\n",
              "      <td>2.495981</td>\n",
              "      <td>6.942261</td>\n",
              "      <td>2.497381</td>\n",
              "      <td>6.962973</td>\n",
              "      <td>0.620817</td>\n",
              "    </tr>\n",
              "    <tr>\n",
              "      <th>std</th>\n",
              "      <td>1.116465</td>\n",
              "      <td>3.749832</td>\n",
              "      <td>1.121750</td>\n",
              "      <td>3.766965</td>\n",
              "      <td>1.123130</td>\n",
              "      <td>3.744858</td>\n",
              "      <td>1.115991</td>\n",
              "      <td>3.747086</td>\n",
              "      <td>1.118715</td>\n",
              "      <td>3.741463</td>\n",
              "      <td>0.786594</td>\n",
              "    </tr>\n",
              "    <tr>\n",
              "      <th>min</th>\n",
              "      <td>1.000000</td>\n",
              "      <td>1.000000</td>\n",
              "      <td>1.000000</td>\n",
              "      <td>1.000000</td>\n",
              "      <td>1.000000</td>\n",
              "      <td>1.000000</td>\n",
              "      <td>1.000000</td>\n",
              "      <td>1.000000</td>\n",
              "      <td>1.000000</td>\n",
              "      <td>1.000000</td>\n",
              "      <td>0.000000</td>\n",
              "    </tr>\n",
              "    <tr>\n",
              "      <th>25%</th>\n",
              "      <td>2.000000</td>\n",
              "      <td>4.000000</td>\n",
              "      <td>1.000000</td>\n",
              "      <td>4.000000</td>\n",
              "      <td>2.000000</td>\n",
              "      <td>4.000000</td>\n",
              "      <td>1.000000</td>\n",
              "      <td>4.000000</td>\n",
              "      <td>1.000000</td>\n",
              "      <td>4.000000</td>\n",
              "      <td>0.000000</td>\n",
              "    </tr>\n",
              "    <tr>\n",
              "      <th>50%</th>\n",
              "      <td>3.000000</td>\n",
              "      <td>7.000000</td>\n",
              "      <td>2.000000</td>\n",
              "      <td>7.000000</td>\n",
              "      <td>3.000000</td>\n",
              "      <td>7.000000</td>\n",
              "      <td>2.000000</td>\n",
              "      <td>7.000000</td>\n",
              "      <td>3.000000</td>\n",
              "      <td>7.000000</td>\n",
              "      <td>1.000000</td>\n",
              "    </tr>\n",
              "    <tr>\n",
              "      <th>75%</th>\n",
              "      <td>4.000000</td>\n",
              "      <td>10.000000</td>\n",
              "      <td>4.000000</td>\n",
              "      <td>10.000000</td>\n",
              "      <td>4.000000</td>\n",
              "      <td>10.000000</td>\n",
              "      <td>3.000000</td>\n",
              "      <td>10.000000</td>\n",
              "      <td>3.000000</td>\n",
              "      <td>10.000000</td>\n",
              "      <td>1.000000</td>\n",
              "    </tr>\n",
              "    <tr>\n",
              "      <th>max</th>\n",
              "      <td>4.000000</td>\n",
              "      <td>13.000000</td>\n",
              "      <td>4.000000</td>\n",
              "      <td>13.000000</td>\n",
              "      <td>4.000000</td>\n",
              "      <td>13.000000</td>\n",
              "      <td>4.000000</td>\n",
              "      <td>13.000000</td>\n",
              "      <td>4.000000</td>\n",
              "      <td>13.000000</td>\n",
              "      <td>9.000000</td>\n",
              "    </tr>\n",
              "  </tbody>\n",
              "</table>\n",
              "</div>"
            ],
            "text/plain": [
              "                 S1            C1  ...            C5         CLASS\n",
              "count  25009.000000  25009.000000  ...  25009.000000  25009.000000\n",
              "mean       2.508817      6.995122  ...      6.962973      0.620817\n",
              "std        1.116465      3.749832  ...      3.741463      0.786594\n",
              "min        1.000000      1.000000  ...      1.000000      0.000000\n",
              "25%        2.000000      4.000000  ...      4.000000      0.000000\n",
              "50%        3.000000      7.000000  ...      7.000000      1.000000\n",
              "75%        4.000000     10.000000  ...     10.000000      1.000000\n",
              "max        4.000000     13.000000  ...     13.000000      9.000000\n",
              "\n",
              "[8 rows x 11 columns]"
            ]
          },
          "metadata": {
            "tags": []
          },
          "execution_count": 80
        }
      ]
    },
    {
      "cell_type": "code",
      "metadata": {
        "id": "0rfdN0pvhiLJ",
        "colab": {
          "base_uri": "https://localhost:8080/",
          "height": 204
        },
        "outputId": "2d4ad10b-14df-4926-87a9-edd742a2e049"
      },
      "source": [
        "test = pd.read_csv('./Data/poker-hand-testing.data', delimiter=\",\")\n",
        "test.columns = ['S1', 'C1', 'S2', 'C2', 'S3', 'C3', 'S4', 'C4', 'S5', 'C5', 'CLASS']\n",
        "#print(test)\n",
        "test.head()"
      ],
      "execution_count": 81,
      "outputs": [
        {
          "output_type": "execute_result",
          "data": {
            "text/html": [
              "<div>\n",
              "<style scoped>\n",
              "    .dataframe tbody tr th:only-of-type {\n",
              "        vertical-align: middle;\n",
              "    }\n",
              "\n",
              "    .dataframe tbody tr th {\n",
              "        vertical-align: top;\n",
              "    }\n",
              "\n",
              "    .dataframe thead th {\n",
              "        text-align: right;\n",
              "    }\n",
              "</style>\n",
              "<table border=\"1\" class=\"dataframe\">\n",
              "  <thead>\n",
              "    <tr style=\"text-align: right;\">\n",
              "      <th></th>\n",
              "      <th>S1</th>\n",
              "      <th>C1</th>\n",
              "      <th>S2</th>\n",
              "      <th>C2</th>\n",
              "      <th>S3</th>\n",
              "      <th>C3</th>\n",
              "      <th>S4</th>\n",
              "      <th>C4</th>\n",
              "      <th>S5</th>\n",
              "      <th>C5</th>\n",
              "      <th>CLASS</th>\n",
              "    </tr>\n",
              "  </thead>\n",
              "  <tbody>\n",
              "    <tr>\n",
              "      <th>0</th>\n",
              "      <td>3</td>\n",
              "      <td>12</td>\n",
              "      <td>3</td>\n",
              "      <td>2</td>\n",
              "      <td>3</td>\n",
              "      <td>11</td>\n",
              "      <td>4</td>\n",
              "      <td>5</td>\n",
              "      <td>2</td>\n",
              "      <td>5</td>\n",
              "      <td>1</td>\n",
              "    </tr>\n",
              "    <tr>\n",
              "      <th>1</th>\n",
              "      <td>1</td>\n",
              "      <td>9</td>\n",
              "      <td>4</td>\n",
              "      <td>6</td>\n",
              "      <td>1</td>\n",
              "      <td>4</td>\n",
              "      <td>3</td>\n",
              "      <td>2</td>\n",
              "      <td>3</td>\n",
              "      <td>9</td>\n",
              "      <td>1</td>\n",
              "    </tr>\n",
              "    <tr>\n",
              "      <th>2</th>\n",
              "      <td>1</td>\n",
              "      <td>4</td>\n",
              "      <td>3</td>\n",
              "      <td>13</td>\n",
              "      <td>2</td>\n",
              "      <td>13</td>\n",
              "      <td>2</td>\n",
              "      <td>1</td>\n",
              "      <td>3</td>\n",
              "      <td>6</td>\n",
              "      <td>1</td>\n",
              "    </tr>\n",
              "    <tr>\n",
              "      <th>3</th>\n",
              "      <td>3</td>\n",
              "      <td>10</td>\n",
              "      <td>2</td>\n",
              "      <td>7</td>\n",
              "      <td>1</td>\n",
              "      <td>2</td>\n",
              "      <td>2</td>\n",
              "      <td>11</td>\n",
              "      <td>4</td>\n",
              "      <td>9</td>\n",
              "      <td>0</td>\n",
              "    </tr>\n",
              "    <tr>\n",
              "      <th>4</th>\n",
              "      <td>1</td>\n",
              "      <td>3</td>\n",
              "      <td>4</td>\n",
              "      <td>5</td>\n",
              "      <td>3</td>\n",
              "      <td>4</td>\n",
              "      <td>1</td>\n",
              "      <td>12</td>\n",
              "      <td>4</td>\n",
              "      <td>6</td>\n",
              "      <td>0</td>\n",
              "    </tr>\n",
              "  </tbody>\n",
              "</table>\n",
              "</div>"
            ],
            "text/plain": [
              "   S1  C1  S2  C2  S3  C3  S4  C4  S5  C5  CLASS\n",
              "0   3  12   3   2   3  11   4   5   2   5      1\n",
              "1   1   9   4   6   1   4   3   2   3   9      1\n",
              "2   1   4   3  13   2  13   2   1   3   6      1\n",
              "3   3  10   2   7   1   2   2  11   4   9      0\n",
              "4   1   3   4   5   3   4   1  12   4   6      0"
            ]
          },
          "metadata": {
            "tags": []
          },
          "execution_count": 81
        }
      ]
    },
    {
      "cell_type": "code",
      "metadata": {
        "id": "xsyUAwZHM4eX"
      },
      "source": [
        "labels = pd.DataFrame()"
      ],
      "execution_count": 82,
      "outputs": []
    },
    {
      "cell_type": "code",
      "metadata": {
        "id": "98JoDRmZzjTs"
      },
      "source": [
        "train.drop(['CLASS'], axis=1)\n",
        "labels = train['CLASS']\n",
        "\n",
        "test.drop(['CLASS'], axis=1)\n",
        "test_labels = test['CLASS']"
      ],
      "execution_count": 83,
      "outputs": []
    },
    {
      "cell_type": "markdown",
      "metadata": {
        "id": "pTpcDoMtYStF"
      },
      "source": [
        "## check missing values on the training set"
      ]
    },
    {
      "cell_type": "code",
      "metadata": {
        "id": "rjPDc-YmkaFw",
        "colab": {
          "base_uri": "https://localhost:8080/"
        },
        "outputId": "fa32da91-ce78-4592-d1a9-970ce018d059"
      },
      "source": [
        "train.isnull().any().any()"
      ],
      "execution_count": 84,
      "outputs": [
        {
          "output_type": "execute_result",
          "data": {
            "text/plain": [
              "False"
            ]
          },
          "metadata": {
            "tags": []
          },
          "execution_count": 84
        }
      ]
    },
    {
      "cell_type": "markdown",
      "metadata": {
        "id": "hkyqpZyWYZpW"
      },
      "source": [
        "## check missing values on the testing set"
      ]
    },
    {
      "cell_type": "code",
      "metadata": {
        "colab": {
          "base_uri": "https://localhost:8080/"
        },
        "id": "_qiFKkK0uJc8",
        "outputId": "ebba1305-9b0b-46fd-8412-d193e1294f94"
      },
      "source": [
        "test.isnull().any().any()"
      ],
      "execution_count": 85,
      "outputs": [
        {
          "output_type": "execute_result",
          "data": {
            "text/plain": [
              "False"
            ]
          },
          "metadata": {
            "tags": []
          },
          "execution_count": 85
        }
      ]
    },
    {
      "cell_type": "markdown",
      "metadata": {
        "id": "PqC1srpwZeBo"
      },
      "source": [
        "## check if any attributes have zero variance across instances (same value in all samples, these should therefore be considered meaningless)"
      ]
    },
    {
      "cell_type": "code",
      "metadata": {
        "id": "5fgHOp3AkhCc",
        "colab": {
          "base_uri": "https://localhost:8080/"
        },
        "outputId": "05857e61-d0f8-44ed-d9ff-a6a1d2defb67"
      },
      "source": [
        "print(\"training\")\n",
        "print(train.shape)\n",
        "sel = feature_selection.VarianceThreshold()\n",
        "train_variance = sel.fit_transform(train)\n",
        "\n",
        "train = pd.DataFrame(train_variance)\n",
        "print(train.shape)\n",
        "\n",
        "print('\\n')\n",
        "print(\"testing\")\n",
        "print(test.shape)\n",
        "\n",
        "test_variance = sel.fit_transform(test)\n",
        "\n",
        "test = pd.DataFrame(test_variance)\n",
        "print(test.shape)\n",
        "\n"
      ],
      "execution_count": 86,
      "outputs": [
        {
          "output_type": "stream",
          "text": [
            "training\n",
            "(25009, 11)\n",
            "(25009, 11)\n",
            "\n",
            "\n",
            "testing\n",
            "(999999, 11)\n",
            "(999999, 11)\n"
          ],
          "name": "stdout"
        }
      ]
    },
    {
      "cell_type": "markdown",
      "metadata": {
        "id": "h8292grPZjRH"
      },
      "source": [
        "## correlation of features to image class"
      ]
    },
    {
      "cell_type": "code",
      "metadata": {
        "id": "6byAAl1cnh25",
        "colab": {
          "base_uri": "https://localhost:8080/"
        },
        "outputId": "a8550abb-a69c-4342-f528-9c167ea25fe1"
      },
      "source": [
        "corr_matrix = train.corr().abs()\n",
        "print(corr_matrix[10].sort_values(ascending=False))"
      ],
      "execution_count": 38,
      "outputs": [
        {
          "output_type": "stream",
          "text": [
            "10    1.000000\n",
            "7     0.009612\n",
            "0     0.008838\n",
            "5     0.006951\n",
            "3     0.005653\n",
            "8     0.005059\n",
            "4     0.004533\n",
            "1     0.001976\n",
            "9     0.001741\n",
            "6     0.000984\n",
            "2     0.000569\n",
            "Name: 10, dtype: float64\n"
          ],
          "name": "stdout"
        }
      ]
    },
    {
      "cell_type": "markdown",
      "metadata": {
        "id": "NV1psxyYn0tt"
      },
      "source": [
        "## All features seem to have very low corelation to target\n",
        "## visualize correlation"
      ]
    },
    {
      "cell_type": "code",
      "metadata": {
        "id": "p1TVWmV5n4ld",
        "colab": {
          "base_uri": "https://localhost:8080/",
          "height": 395
        },
        "outputId": "c09e408f-cd12-469c-f52c-d64a35facbe8"
      },
      "source": [
        "corr_matrix = train.corr().abs()\n",
        "plt.subplots(figsize=(10,6))\n",
        "sns.heatmap(corr_matrix, vmax=0.9, cmap=\"Blues\", square=True)"
      ],
      "execution_count": 39,
      "outputs": [
        {
          "output_type": "execute_result",
          "data": {
            "text/plain": [
              "<matplotlib.axes._subplots.AxesSubplot at 0x7f11d53be518>"
            ]
          },
          "metadata": {
            "tags": []
          },
          "execution_count": 39
        },
        {
          "output_type": "display_data",
          "data": {
            "image/png": "[encoded data removed]",
            "text/plain": [
              "<Figure size 720x432 with 2 Axes>"
            ]
          },
          "metadata": {
            "tags": [],
            "needs_background": "light"
          }
        }
      ]
    },
    {
      "cell_type": "code",
      "metadata": {
        "colab": {
          "base_uri": "https://localhost:8080/",
          "height": 395
        },
        "id": "ubrcfWrEwsdw",
        "outputId": "ae048dca-e271-475d-a6f4-e5984ce389a1"
      },
      "source": [
        "plt.subplots(figsize=(10,6))\n",
        "sns.heatmap(corr_matrix,vmax = 0.7,cmap = \"GnBu\")"
      ],
      "execution_count": 40,
      "outputs": [
        {
          "output_type": "execute_result",
          "data": {
            "text/plain": [
              "<matplotlib.axes._subplots.AxesSubplot at 0x7f11d52ed2e8>"
            ]
          },
          "metadata": {
            "tags": []
          },
          "execution_count": 40
        },
        {
          "output_type": "display_data",
          "data": {
            "image/png": "[encoded data removed]",
            "text/plain": [
              "<Figure size 720x432 with 2 Axes>"
            ]
          },
          "metadata": {
            "tags": [],
            "needs_background": "light"
          }
        }
      ]
    },
    {
      "cell_type": "markdown",
      "metadata": {
        "id": "7RZw8A_dZxzk"
      },
      "source": [
        "## check distribution of data"
      ]
    },
    {
      "cell_type": "code",
      "metadata": {
        "id": "pX4F5KnXo5nb",
        "colab": {
          "base_uri": "https://localhost:8080/"
        },
        "outputId": "94fc237e-360c-4374-ed48-417faebb8a34"
      },
      "source": [
        "X_train = train.iloc[:,:10].copy()\n",
        "X_test = test.iloc[:,:10].copy()\n",
        "\n",
        "for col in X_train:\n",
        "    print('{:15}'.format(col), \n",
        "          'Skewness: {:05.2f}'.format(X_train[col].skew()) , \n",
        "          '   ' ,\n",
        "          'Kurtosis: {:06.2f}'.format(X_train[col].kurt())  \n",
        "         )"
      ],
      "execution_count": 41,
      "outputs": [
        {
          "output_type": "stream",
          "text": [
            "              0 Skewness: -0.01     Kurtosis: -01.36\n",
            "              1 Skewness: -0.01     Kurtosis: -01.22\n",
            "              2 Skewness: 00.00     Kurtosis: -01.37\n",
            "              3 Skewness: -0.00     Kurtosis: -01.22\n",
            "              4 Skewness: -0.01     Kurtosis: -01.37\n",
            "              5 Skewness: -0.00     Kurtosis: -01.22\n",
            "              6 Skewness: 00.00     Kurtosis: -01.36\n",
            "              7 Skewness: 00.01     Kurtosis: -01.22\n",
            "              8 Skewness: -0.00     Kurtosis: -01.36\n",
            "              9 Skewness: 00.01     Kurtosis: -01.21\n"
          ],
          "name": "stdout"
        }
      ]
    },
    {
      "cell_type": "markdown",
      "metadata": {
        "id": "Rk_Vy2RPZ0sy"
      },
      "source": [
        "## using StandardScaler for standardization since distribution seems approximately normal"
      ]
    },
    {
      "cell_type": "code",
      "metadata": {
        "id": "uUErjLVEpb0B",
        "colab": {
          "base_uri": "https://localhost:8080/"
        },
        "outputId": "285d7bcb-57a8-449f-f559-89dd0926dae2"
      },
      "source": [
        "scaler = StandardScaler()\n",
        "X_train = pd.DataFrame(scaler.fit_transform(X_train))\n",
        "X_test = pd.DataFrame(scaler.fit_transform(X_test))\n",
        "\n",
        "for col in X_train:\n",
        "    print('{:15}'.format(col), \n",
        "          'Skewness: {:05.2f}'.format(X_train[col].skew()) , \n",
        "          '   ' ,\n",
        "          'Kurtosis: {:06.2f}'.format(X_train[col].kurt())  \n",
        "         )"
      ],
      "execution_count": 87,
      "outputs": [
        {
          "output_type": "stream",
          "text": [
            "              0 Skewness: 00.00     Kurtosis: -01.33\n",
            "              1 Skewness: -0.00     Kurtosis: -01.21\n",
            "              2 Skewness: 00.02     Kurtosis: -01.35\n",
            "              3 Skewness: -0.00     Kurtosis: -01.23\n",
            "              4 Skewness: 00.01     Kurtosis: -01.36\n",
            "              5 Skewness: -0.00     Kurtosis: -01.22\n",
            "              6 Skewness: 00.04     Kurtosis: -01.35\n",
            "              7 Skewness: 00.00     Kurtosis: -01.22\n",
            "              8 Skewness: 00.01     Kurtosis: -01.35\n",
            "              9 Skewness: 00.01     Kurtosis: -01.19\n",
            "             10 Skewness: 03.07     Kurtosis: 010.19\n"
          ],
          "name": "stdout"
        }
      ]
    },
    {
      "cell_type": "markdown",
      "metadata": {
        "id": "mszqWiQXZ47-"
      },
      "source": [
        "## Smote for fixing data imbalance "
      ]
    },
    {
      "cell_type": "code",
      "metadata": {
        "id": "O9GB29KuyNvm"
      },
      "source": [
        "def balance_data(training_data, training_classes):\n",
        "  training_data = np.array(training_data)\n",
        "  training_classes = np.array(training_classes)\n",
        "\n",
        "  before = Counter(training_classes)\n",
        "  print(\"Before: \", before)\n",
        "  strategy = dict(before)\n",
        "  avg = round(sum(strategy.values()) / len(strategy)  / len(strategy) )\n",
        "  for i, j in strategy.items():\n",
        "    if j < avg:\n",
        "      strategy[i] = j + avg\n",
        "  sc = SMOTE(sampling_strategy=strategy, random_state=101,k_neighbors=2,kind=\"regular\")\n",
        "  X_balanced, y_balanced = sc.fit_sample(training_data, training_classes)\n",
        "  print(\"After: \", Counter(y_balanced))\n",
        "  return X_balanced, y_balanced "
      ],
      "execution_count": 88,
      "outputs": []
    },
    {
      "cell_type": "markdown",
      "metadata": {
        "id": "wCz0-9faaTtP"
      },
      "source": [
        "## we balance the training data by oversampling the minority data samples "
      ]
    },
    {
      "cell_type": "code",
      "metadata": {
        "colab": {
          "base_uri": "https://localhost:8080/"
        },
        "id": "0XjIVp4izVjt",
        "outputId": "b37d53b3-093a-42b3-966a-f8c3d114c7ef"
      },
      "source": [
        "X_train, y_train = balance_data(train, labels)\n",
        "X_train.shape"
      ],
      "execution_count": 89,
      "outputs": [
        {
          "output_type": "stream",
          "text": [
            "Before:  Counter({0: 12493, 1: 10599, 2: 1206, 3: 513, 4: 93, 5: 54, 6: 36, 7: 6, 8: 5, 9: 4})\n",
            "After:  Counter({0: 12493, 1: 10599, 2: 1206, 3: 513, 4: 343, 5: 304, 6: 286, 7: 256, 8: 255, 9: 254})\n"
          ],
          "name": "stdout"
        },
        {
          "output_type": "execute_result",
          "data": {
            "text/plain": [
              "(26509, 11)"
            ]
          },
          "metadata": {
            "tags": []
          },
          "execution_count": 89
        }
      ]
    },
    {
      "cell_type": "code",
      "metadata": {
        "colab": {
          "base_uri": "https://localhost:8080/"
        },
        "id": "DfCvxl2_b0WE",
        "outputId": "743cf95e-66f4-4476-a4a5-b7623742ed28"
      },
      "source": [
        "X_test, y_test = balance_data(test, test_labels)\n",
        "X_test.shape"
      ],
      "execution_count": 90,
      "outputs": [
        {
          "output_type": "stream",
          "text": [
            "Before:  Counter({0: 501208, 1: 422498, 2: 47622, 3: 21121, 4: 3885, 5: 1996, 6: 1424, 7: 230, 8: 12, 9: 3})\n",
            "After:  Counter({0: 501208, 1: 422498, 2: 47622, 3: 21121, 4: 13885, 5: 11996, 6: 11424, 7: 10230, 8: 10012, 9: 10003})\n"
          ],
          "name": "stdout"
        },
        {
          "output_type": "execute_result",
          "data": {
            "text/plain": [
              "(1059999, 11)"
            ]
          },
          "metadata": {
            "tags": []
          },
          "execution_count": 90
        }
      ]
    },
    {
      "cell_type": "markdown",
      "metadata": {
        "id": "0NCFqEzoW3gA"
      },
      "source": [
        "## Random Forest Classifier"
      ]
    },
    {
      "cell_type": "code",
      "metadata": {
        "id": "B6sp2FKhdC_Y"
      },
      "source": [
        "from sklearn.ensemble import RandomForestClassifier\n",
        "from sklearn.metrics import classification_report, make_scorer, accuracy_score\n",
        "import sklearn.model_selection as model_selection\n",
        "\n",
        "# Variables for average classification report for each model\n",
        "originalclass = []\n",
        "predictedclass = []"
      ],
      "execution_count": 110,
      "outputs": []
    },
    {
      "cell_type": "code",
      "metadata": {
        "id": "2hFM4YbGCx8i"
      },
      "source": [
        "#define custom scoring function to feed into cross_val\n",
        "def classification_report_w_accuracy(y_true, y_pred):\n",
        "    originalclass.extend(y_true)\n",
        "    predictedclass.extend(y_pred)\n",
        "    return accuracy_score(y_true, y_pred) # return accuracy score"
      ],
      "execution_count": 111,
      "outputs": []
    },
    {
      "cell_type": "code",
      "metadata": {
        "colab": {
          "base_uri": "https://localhost:8080/"
        },
        "id": "4h6qge4XDE1J",
        "outputId": "303d641d-dee8-47d7-a0bb-337cc8152881"
      },
      "source": [
        "#cross-validation: use for each model\n",
        "clf = RandomForestClassifier()\n",
        "model_selection.cross_val_score(clf, X_train, y_train, cv = 5, scoring = make_scorer(classification_report_w_accuracy))\n",
        "print(classification_report(originalclass, predictedclass)) "
      ],
      "execution_count": 113,
      "outputs": [
        {
          "output_type": "stream",
          "text": [
            "              precision    recall  f1-score   support\n",
            "\n",
            "           0       1.00      1.00      1.00     24986\n",
            "           1       1.00      1.00      1.00     21198\n",
            "           2       0.99      1.00      1.00      2412\n",
            "           3       0.97      0.99      0.98      1026\n",
            "           4       1.00      0.96      0.98       686\n",
            "           5       0.99      1.00      1.00       608\n",
            "           6       1.00      0.99      0.99       572\n",
            "           7       1.00      0.99      1.00       512\n",
            "           8       1.00      0.99      1.00       510\n",
            "           9       1.00      1.00      1.00       508\n",
            "\n",
            "    accuracy                           1.00     53018\n",
            "   macro avg       1.00      0.99      0.99     53018\n",
            "weighted avg       1.00      1.00      1.00     53018\n",
            "\n"
          ],
          "name": "stdout"
        }
      ]
    },
    {
      "cell_type": "code",
      "metadata": {
        "id": "XyQ_U2pKIw6o"
      },
      "source": [
        "#insert other classifiers here (#kNN, NeuralNetwork, etc.)"
      ],
      "execution_count": null,
      "outputs": []
    },
    {
      "cell_type": "markdown",
      "metadata": {
        "id": "kAHebwKnI2dl"
      },
      "source": [
        "#Select Best Model, then do following"
      ]
    },
    {
      "cell_type": "code",
      "metadata": {
        "colab": {
          "base_uri": "https://localhost:8080/"
        },
        "id": "Az8A3F26WvWh",
        "outputId": "bceb3d61-f13e-4d78-ca71-4f8b295ee5cf"
      },
      "source": [
        "#(we should only fit to all the training data at very end after we select our model; helps with generalizability and \n",
        "#overfitting)\n",
        "clf = RandomForestClassifier()\n",
        "clf.fit(X_train, y_train)"
      ],
      "execution_count": 108,
      "outputs": [
        {
          "output_type": "execute_result",
          "data": {
            "text/plain": [
              "RandomForestClassifier(bootstrap=True, ccp_alpha=0.0, class_weight=None,\n",
              "                       criterion='gini', max_depth=None, max_features='auto',\n",
              "                       max_leaf_nodes=None, max_samples=None,\n",
              "                       min_impurity_decrease=0.0, min_impurity_split=None,\n",
              "                       min_samples_leaf=1, min_samples_split=2,\n",
              "                       min_weight_fraction_leaf=0.0, n_estimators=100,\n",
              "                       n_jobs=None, oob_score=False, random_state=None,\n",
              "                       verbose=0, warm_start=False)"
            ]
          },
          "metadata": {
            "tags": []
          },
          "execution_count": 108
        }
      ]
    },
    {
      "cell_type": "code",
      "metadata": {
        "colab": {
          "base_uri": "https://localhost:8080/"
        },
        "id": "FcvmL92qXT2a",
        "outputId": "53ff4273-a600-4762-f191-a6646a13766e"
      },
      "source": [
        "#(we should only predict for test at very end after we select our model; helps with generalizability and \n",
        "#overfitting)\n",
        "pred = clf.predict(X_test)\n",
        "print(classification_report(y_test, pred))"
      ],
      "execution_count": 109,
      "outputs": [
        {
          "output_type": "stream",
          "text": [
            "              precision    recall  f1-score   support\n",
            "\n",
            "           0       1.00      1.00      1.00    501208\n",
            "           1       1.00      1.00      1.00    422498\n",
            "           2       0.99      1.00      1.00     47622\n",
            "           3       0.77      1.00      0.87     21121\n",
            "           4       0.81      0.89      0.85     13885\n",
            "           5       0.57      1.00      0.73     11996\n",
            "           6       0.52      0.62      0.56     11424\n",
            "           7       1.00      0.09      0.16     10230\n",
            "           8       0.74      0.63      0.68     10012\n",
            "           9       0.67      0.10      0.17     10003\n",
            "\n",
            "    accuracy                           0.97   1059999\n",
            "   macro avg       0.81      0.73      0.70   1059999\n",
            "weighted avg       0.98      0.97      0.97   1059999\n",
            "\n"
          ],
          "name": "stdout"
        }
      ]
    },
    {
      "cell_type": "code",
      "metadata": {
        "id": "1ctd90PRacG9"
      },
      "source": [
        ""
      ],
      "execution_count": null,
      "outputs": []
    },
    {
      "cell_type": "code",
      "metadata": {
        "id": "hnvUaFTsa0yR"
      },
      "source": [
        ""
      ],
      "execution_count": null,
      "outputs": []
    }
  ]
}