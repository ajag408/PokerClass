{
  "nbformat": 4,
  "nbformat_minor": 0,
  "metadata": {
    "kernelspec": {
      "display_name": "Python 3",
      "language": "python",
      "name": "python3"
    },
    "language_info": {
      "codemirror_mode": {
        "name": "ipython",
        "version": 3
      },
      "file_extension": ".py",
      "mimetype": "text/x-python",
      "name": "python",
      "nbconvert_exporter": "python",
      "pygments_lexer": "ipython3",
      "version": "3.8.3"
    },
    "colab": {
      "name": "preprocessing_updated.ipynb",
      "provenance": [],
      "collapsed_sections": [],
      "include_colab_link": true
    }
  },
  "cells": [
    {
      "cell_type": "markdown",
      "metadata": {
        "id": "view-in-github",
        "colab_type": "text"
      },
      "source": [
        "<a href=\"https://colab.research.google.com/github/ajag408/PokerClass/blob/main/preprocessing_updated.ipynb\" target=\"_parent\"><img src=\"https://colab.research.google.com/assets/colab-badge.svg\" alt=\"Open In Colab\"/></a>"
      ]
    },
    {
      "cell_type": "code",
      "metadata": {
        "id": "4NEO4J9HrAyn",
        "colab": {
          "base_uri": "https://localhost:8080/"
        },
        "outputId": "2f957403-149d-4653-e0c1-55d8a96add47"
      },
      "source": [
        "#use this to mount your drive\n",
        "\n",
        "from google.colab import drive\n",
        "drive.mount('/content/drive')"
      ],
      "execution_count": null,
      "outputs": [
        {
          "output_type": "stream",
          "text": [
            "Drive already mounted at /content/drive; to attempt to forcibly remount, call drive.mount(\"/content/drive\", force_remount=True).\n"
          ],
          "name": "stdout"
        }
      ]
    },
    {
      "cell_type": "code",
      "metadata": {
        "id": "ZsCe7YqSrSj2",
        "colab": {
          "base_uri": "https://localhost:8080/"
        },
        "outputId": "b260c06d-5af6-4db8-ee40-04015c41149b"
      },
      "source": [
        "#  %cd into /content/drive/Shared\\ drives/255Project/PokerClass   (u have to use % in front of command)\n",
        "%cd  /content/drive/Shared\\ drives/255Project/PokerClass\n",
        "\n",
        "\n",
        "#when saving changes, click on File -> Save a copy in GitHub.  Repo is \"swetha1695/PokerClassification\" and branch is \"main\""
      ],
      "execution_count": null,
      "outputs": [
        {
          "output_type": "stream",
          "text": [
            "/content/drive/Shared drives/255Project/PokerClass\n"
          ],
          "name": "stdout"
        }
      ]
    },
    {
      "cell_type": "code",
      "metadata": {
        "colab": {
          "base_uri": "https://localhost:8080/"
        },
        "id": "o-ctzVaAtz3u",
        "outputId": "67ee321e-f915-472d-d055-0864aeeb074d"
      },
      "source": [
        "!pwd"
      ],
      "execution_count": null,
      "outputs": [
        {
          "output_type": "stream",
          "text": [
            "/content/drive/Shared drives/255Project/PokerClass\n"
          ],
          "name": "stdout"
        }
      ]
    },
    {
      "cell_type": "code",
      "metadata": {
        "id": "VeZY70YLp2Uk",
        "colab": {
          "base_uri": "https://localhost:8080/",
          "height": 196
        },
        "outputId": "9669d239-995c-42b4-be80-23289c5a35e6"
      },
      "source": [
        "#proposing switching training and test sets, since test is way larger\n",
        "import numpy as np\n",
        "import pandas as pd\n",
        "\n",
        "train = pd.read_csv('./Data/poker-hand-testing.data', delimiter=\",\")\n",
        "train.columns = ['S1', 'C1', 'S2', 'C2', 'S3', 'C3', 'S4', 'C4', 'S5', 'C5', 'CLASS']\n",
        "#print(train)\n",
        "train.head()\n"
      ],
      "execution_count": null,
      "outputs": [
        {
          "output_type": "execute_result",
          "data": {
            "text/html": [
              "<div>\n",
              "<style scoped>\n",
              "    .dataframe tbody tr th:only-of-type {\n",
              "        vertical-align: middle;\n",
              "    }\n",
              "\n",
              "    .dataframe tbody tr th {\n",
              "        vertical-align: top;\n",
              "    }\n",
              "\n",
              "    .dataframe thead th {\n",
              "        text-align: right;\n",
              "    }\n",
              "</style>\n",
              "<table border=\"1\" class=\"dataframe\">\n",
              "  <thead>\n",
              "    <tr style=\"text-align: right;\">\n",
              "      <th></th>\n",
              "      <th>S1</th>\n",
              "      <th>C1</th>\n",
              "      <th>S2</th>\n",
              "      <th>C2</th>\n",
              "      <th>S3</th>\n",
              "      <th>C3</th>\n",
              "      <th>S4</th>\n",
              "      <th>C4</th>\n",
              "      <th>S5</th>\n",
              "      <th>C5</th>\n",
              "      <th>CLASS</th>\n",
              "    </tr>\n",
              "  </thead>\n",
              "  <tbody>\n",
              "    <tr>\n",
              "      <th>0</th>\n",
              "      <td>3</td>\n",
              "      <td>12</td>\n",
              "      <td>3</td>\n",
              "      <td>2</td>\n",
              "      <td>3</td>\n",
              "      <td>11</td>\n",
              "      <td>4</td>\n",
              "      <td>5</td>\n",
              "      <td>2</td>\n",
              "      <td>5</td>\n",
              "      <td>1</td>\n",
              "    </tr>\n",
              "    <tr>\n",
              "      <th>1</th>\n",
              "      <td>1</td>\n",
              "      <td>9</td>\n",
              "      <td>4</td>\n",
              "      <td>6</td>\n",
              "      <td>1</td>\n",
              "      <td>4</td>\n",
              "      <td>3</td>\n",
              "      <td>2</td>\n",
              "      <td>3</td>\n",
              "      <td>9</td>\n",
              "      <td>1</td>\n",
              "    </tr>\n",
              "    <tr>\n",
              "      <th>2</th>\n",
              "      <td>1</td>\n",
              "      <td>4</td>\n",
              "      <td>3</td>\n",
              "      <td>13</td>\n",
              "      <td>2</td>\n",
              "      <td>13</td>\n",
              "      <td>2</td>\n",
              "      <td>1</td>\n",
              "      <td>3</td>\n",
              "      <td>6</td>\n",
              "      <td>1</td>\n",
              "    </tr>\n",
              "    <tr>\n",
              "      <th>3</th>\n",
              "      <td>3</td>\n",
              "      <td>10</td>\n",
              "      <td>2</td>\n",
              "      <td>7</td>\n",
              "      <td>1</td>\n",
              "      <td>2</td>\n",
              "      <td>2</td>\n",
              "      <td>11</td>\n",
              "      <td>4</td>\n",
              "      <td>9</td>\n",
              "      <td>0</td>\n",
              "    </tr>\n",
              "    <tr>\n",
              "      <th>4</th>\n",
              "      <td>1</td>\n",
              "      <td>3</td>\n",
              "      <td>4</td>\n",
              "      <td>5</td>\n",
              "      <td>3</td>\n",
              "      <td>4</td>\n",
              "      <td>1</td>\n",
              "      <td>12</td>\n",
              "      <td>4</td>\n",
              "      <td>6</td>\n",
              "      <td>0</td>\n",
              "    </tr>\n",
              "  </tbody>\n",
              "</table>\n",
              "</div>"
            ],
            "text/plain": [
              "   S1  C1  S2  C2  S3  C3  S4  C4  S5  C5  CLASS\n",
              "0   3  12   3   2   3  11   4   5   2   5      1\n",
              "1   1   9   4   6   1   4   3   2   3   9      1\n",
              "2   1   4   3  13   2  13   2   1   3   6      1\n",
              "3   3  10   2   7   1   2   2  11   4   9      0\n",
              "4   1   3   4   5   3   4   1  12   4   6      0"
            ]
          },
          "metadata": {
            "tags": []
          },
          "execution_count": 141
        }
      ]
    },
    {
      "cell_type": "code",
      "metadata": {
        "id": "0rfdN0pvhiLJ",
        "colab": {
          "base_uri": "https://localhost:8080/",
          "height": 196
        },
        "outputId": "d629fa85-15a4-4ffc-c0de-f4d9c7c81148"
      },
      "source": [
        "test = pd.read_csv('./Data/poker-hand-training-true.data', delimiter=\",\")\n",
        "test.columns = ['S1', 'C1', 'S2', 'C2', 'S3', 'C3', 'S4', 'C4', 'S5', 'C5', 'CLASS']\n",
        "#print(test)\n",
        "test.head()"
      ],
      "execution_count": null,
      "outputs": [
        {
          "output_type": "execute_result",
          "data": {
            "text/html": [
              "<div>\n",
              "<style scoped>\n",
              "    .dataframe tbody tr th:only-of-type {\n",
              "        vertical-align: middle;\n",
              "    }\n",
              "\n",
              "    .dataframe tbody tr th {\n",
              "        vertical-align: top;\n",
              "    }\n",
              "\n",
              "    .dataframe thead th {\n",
              "        text-align: right;\n",
              "    }\n",
              "</style>\n",
              "<table border=\"1\" class=\"dataframe\">\n",
              "  <thead>\n",
              "    <tr style=\"text-align: right;\">\n",
              "      <th></th>\n",
              "      <th>S1</th>\n",
              "      <th>C1</th>\n",
              "      <th>S2</th>\n",
              "      <th>C2</th>\n",
              "      <th>S3</th>\n",
              "      <th>C3</th>\n",
              "      <th>S4</th>\n",
              "      <th>C4</th>\n",
              "      <th>S5</th>\n",
              "      <th>C5</th>\n",
              "      <th>CLASS</th>\n",
              "    </tr>\n",
              "  </thead>\n",
              "  <tbody>\n",
              "    <tr>\n",
              "      <th>0</th>\n",
              "      <td>2</td>\n",
              "      <td>11</td>\n",
              "      <td>2</td>\n",
              "      <td>13</td>\n",
              "      <td>2</td>\n",
              "      <td>10</td>\n",
              "      <td>2</td>\n",
              "      <td>12</td>\n",
              "      <td>2</td>\n",
              "      <td>1</td>\n",
              "      <td>9</td>\n",
              "    </tr>\n",
              "    <tr>\n",
              "      <th>1</th>\n",
              "      <td>3</td>\n",
              "      <td>12</td>\n",
              "      <td>3</td>\n",
              "      <td>11</td>\n",
              "      <td>3</td>\n",
              "      <td>13</td>\n",
              "      <td>3</td>\n",
              "      <td>10</td>\n",
              "      <td>3</td>\n",
              "      <td>1</td>\n",
              "      <td>9</td>\n",
              "    </tr>\n",
              "    <tr>\n",
              "      <th>2</th>\n",
              "      <td>4</td>\n",
              "      <td>10</td>\n",
              "      <td>4</td>\n",
              "      <td>11</td>\n",
              "      <td>4</td>\n",
              "      <td>1</td>\n",
              "      <td>4</td>\n",
              "      <td>13</td>\n",
              "      <td>4</td>\n",
              "      <td>12</td>\n",
              "      <td>9</td>\n",
              "    </tr>\n",
              "    <tr>\n",
              "      <th>3</th>\n",
              "      <td>4</td>\n",
              "      <td>1</td>\n",
              "      <td>4</td>\n",
              "      <td>13</td>\n",
              "      <td>4</td>\n",
              "      <td>12</td>\n",
              "      <td>4</td>\n",
              "      <td>11</td>\n",
              "      <td>4</td>\n",
              "      <td>10</td>\n",
              "      <td>9</td>\n",
              "    </tr>\n",
              "    <tr>\n",
              "      <th>4</th>\n",
              "      <td>1</td>\n",
              "      <td>2</td>\n",
              "      <td>1</td>\n",
              "      <td>4</td>\n",
              "      <td>1</td>\n",
              "      <td>5</td>\n",
              "      <td>1</td>\n",
              "      <td>3</td>\n",
              "      <td>1</td>\n",
              "      <td>6</td>\n",
              "      <td>8</td>\n",
              "    </tr>\n",
              "  </tbody>\n",
              "</table>\n",
              "</div>"
            ],
            "text/plain": [
              "   S1  C1  S2  C2  S3  C3  S4  C4  S5  C5  CLASS\n",
              "0   2  11   2  13   2  10   2  12   2   1      9\n",
              "1   3  12   3  11   3  13   3  10   3   1      9\n",
              "2   4  10   4  11   4   1   4  13   4  12      9\n",
              "3   4   1   4  13   4  12   4  11   4  10      9\n",
              "4   1   2   1   4   1   5   1   3   1   6      8"
            ]
          },
          "metadata": {
            "tags": []
          },
          "execution_count": 142
        }
      ]
    },
    {
      "cell_type": "code",
      "metadata": {
        "id": "xsyUAwZHM4eX"
      },
      "source": [
        "labels = pd.DataFrame()"
      ],
      "execution_count": null,
      "outputs": []
    },
    {
      "cell_type": "code",
      "metadata": {
        "id": "98JoDRmZzjTs"
      },
      "source": [
        "train.drop(['CLASS'], axis=1)\n",
        "labels = train['CLASS']"
      ],
      "execution_count": null,
      "outputs": []
    },
    {
      "cell_type": "code",
      "metadata": {
        "id": "rjPDc-YmkaFw",
        "colab": {
          "base_uri": "https://localhost:8080/"
        },
        "outputId": "2dd6bfdd-ec03-4c06-90d7-9ad8f383c143"
      },
      "source": [
        "#preprocessing\n",
        "\n",
        "# check missing values on the training set\n",
        "\n",
        "train.isnull().any().any()\n",
        "\n"
      ],
      "execution_count": null,
      "outputs": [
        {
          "output_type": "execute_result",
          "data": {
            "text/plain": [
              "False"
            ]
          },
          "metadata": {
            "tags": []
          },
          "execution_count": 145
        }
      ]
    },
    {
      "cell_type": "code",
      "metadata": {
        "colab": {
          "base_uri": "https://localhost:8080/"
        },
        "id": "_qiFKkK0uJc8",
        "outputId": "d86930f1-1390-434e-973e-2ef42d0b5f86"
      },
      "source": [
        "\n",
        "# check missing values on the testing set\n",
        "test.isnull().any().any()"
      ],
      "execution_count": null,
      "outputs": [
        {
          "output_type": "execute_result",
          "data": {
            "text/plain": [
              "False"
            ]
          },
          "metadata": {
            "tags": []
          },
          "execution_count": 146
        }
      ]
    },
    {
      "cell_type": "code",
      "metadata": {
        "id": "5fgHOp3AkhCc",
        "colab": {
          "base_uri": "https://localhost:8080/"
        },
        "outputId": "0350f53e-b7dc-40bb-8429-ca84f19e5988"
      },
      "source": [
        "#check if any attributes have zero variance across instances (same value in all samples, these should therefore\n",
        "#be considered meaningless)\n",
        "\n",
        "from sklearn import feature_selection\n",
        "print(\"training\")\n",
        "print(train.shape)\n",
        "sel = feature_selection.VarianceThreshold()\n",
        "train_variance = sel.fit_transform(train)\n",
        "\n",
        "train = pd.DataFrame(train_variance)\n",
        "print(train.shape)\n",
        "\n",
        "print('\\n')\n",
        "print(\"testing\")\n",
        "print(test.shape)\n",
        "\n",
        "test_variance = sel.fit_transform(test)\n",
        "\n",
        "test = pd.DataFrame(test_variance)\n",
        "print(test.shape)\n",
        "\n"
      ],
      "execution_count": null,
      "outputs": [
        {
          "output_type": "stream",
          "text": [
            "training\n",
            "(999999, 11)\n",
            "(999999, 11)\n",
            "\n",
            "\n",
            "testing\n",
            "(25009, 11)\n",
            "(25009, 11)\n"
          ],
          "name": "stdout"
        }
      ]
    },
    {
      "cell_type": "code",
      "metadata": {
        "id": "6byAAl1cnh25",
        "colab": {
          "base_uri": "https://localhost:8080/"
        },
        "outputId": "00923470-3f04-4ea3-abcb-22121d421188"
      },
      "source": [
        "# correlation of features to image class\n",
        "corr_matrix = train.corr().abs()\n",
        "print(corr_matrix[10].sort_values(ascending=False))"
      ],
      "execution_count": null,
      "outputs": [
        {
          "output_type": "stream",
          "text": [
            "10    1.000000\n",
            "1     0.003876\n",
            "7     0.003010\n",
            "5     0.002482\n",
            "3     0.001712\n",
            "9     0.001604\n",
            "8     0.001515\n",
            "4     0.001194\n",
            "6     0.001157\n",
            "2     0.000196\n",
            "0     0.000030\n",
            "Name: 10, dtype: float64\n"
          ],
          "name": "stdout"
        }
      ]
    },
    {
      "cell_type": "markdown",
      "metadata": {
        "id": "NV1psxyYn0tt"
      },
      "source": [
        "All features seem to have very low corelation to target"
      ]
    },
    {
      "cell_type": "code",
      "metadata": {
        "id": "p1TVWmV5n4ld",
        "colab": {
          "base_uri": "https://localhost:8080/",
          "height": 395
        },
        "outputId": "b74b9cf5-d341-447b-e9d0-4a5a23cef258"
      },
      "source": [
        "#visualize correlation\n",
        "import matplotlib.pyplot as plt\n",
        "import seaborn as sns\n",
        "\n",
        "\n",
        "corr_matrix = train.corr().abs()\n",
        "plt.subplots(figsize=(10,6))\n",
        "sns.heatmap(corr_matrix, vmax=0.9, cmap=\"Blues\", square=True)\n"
      ],
      "execution_count": null,
      "outputs": [
        {
          "output_type": "execute_result",
          "data": {
            "text/plain": [
              "<matplotlib.axes._subplots.AxesSubplot at 0x7faedf0e98d0>"
            ]
          },
          "metadata": {
            "tags": []
          },
          "execution_count": 149
        },
        {
          "output_type": "display_data",
          "data": {
            "image/png": "[encoded data removed]",
            "text/plain": [
              "<Figure size 720x432 with 2 Axes>"
            ]
          },
          "metadata": {
            "tags": [],
            "needs_background": "light"
          }
        }
      ]
    },
    {
      "cell_type": "code",
      "metadata": {
        "colab": {
          "base_uri": "https://localhost:8080/",
          "height": 395
        },
        "id": "ubrcfWrEwsdw",
        "outputId": "16e846b3-581a-42b3-c8b7-ff524e0bafe4"
      },
      "source": [
        "plt.subplots(figsize=(10,6))\n",
        "sns.heatmap(corr_matrix,vmax = 0.7,cmap = \"GnBu\")"
      ],
      "execution_count": null,
      "outputs": [
        {
          "output_type": "execute_result",
          "data": {
            "text/plain": [
              "<matplotlib.axes._subplots.AxesSubplot at 0x7faedf029b00>"
            ]
          },
          "metadata": {
            "tags": []
          },
          "execution_count": 151
        },
        {
          "output_type": "display_data",
          "data": {
            "image/png": "[encoded data removed]",
            "text/plain": [
              "<Figure size 720x432 with 2 Axes>"
            ]
          },
          "metadata": {
            "tags": [],
            "needs_background": "light"
          }
        }
      ]
    },
    {
      "cell_type": "code",
      "metadata": {
        "id": "pX4F5KnXo5nb",
        "colab": {
          "base_uri": "https://localhost:8080/"
        },
        "outputId": "473d6e78-9713-4d5b-c67a-76f8db659391"
      },
      "source": [
        "#check distribution of data\n",
        "\n",
        "X_train = train.iloc[:,:10].copy()\n",
        "X_test = test.iloc[:,:10].copy()\n",
        "\n",
        "for col in X_train:\n",
        "    print('{:15}'.format(col), \n",
        "          'Skewness: {:05.2f}'.format(X_train[col].skew()) , \n",
        "          '   ' ,\n",
        "          'Kurtosis: {:06.2f}'.format(X_train[col].kurt())  \n",
        "         )"
      ],
      "execution_count": null,
      "outputs": [
        {
          "output_type": "stream",
          "text": [
            "              0 Skewness: -0.00     Kurtosis: -01.36\n",
            "              1 Skewness: 00.00     Kurtosis: -01.22\n",
            "              2 Skewness: -0.00     Kurtosis: -01.36\n",
            "              3 Skewness: -0.00     Kurtosis: -01.22\n",
            "              4 Skewness: -0.00     Kurtosis: -01.36\n",
            "              5 Skewness: -0.00     Kurtosis: -01.21\n",
            "              6 Skewness: -0.00     Kurtosis: -01.36\n",
            "              7 Skewness: -0.00     Kurtosis: -01.21\n",
            "              8 Skewness: 00.00     Kurtosis: -01.36\n",
            "              9 Skewness: 00.00     Kurtosis: -01.21\n"
          ],
          "name": "stdout"
        }
      ]
    },
    {
      "cell_type": "code",
      "metadata": {
        "id": "uUErjLVEpb0B",
        "colab": {
          "base_uri": "https://localhost:8080/"
        },
        "outputId": "23629069-92d4-4a0e-f38a-d56984205d9a"
      },
      "source": [
        "#using StandardScaler for standardization since distribution seems approximately normal\n",
        "\n",
        "from sklearn.preprocessing import StandardScaler\n",
        "\n",
        "scaler = StandardScaler()\n",
        "X_train = pd.DataFrame(scaler.fit_transform(X_train))\n",
        "X_test = pd.DataFrame(scaler.fit_transform(X_test))\n",
        "\n",
        "for col in X_train:\n",
        "    print('{:15}'.format(col), \n",
        "          'Skewness: {:05.2f}'.format(X_train[col].skew()) , \n",
        "          '   ' ,\n",
        "          'Kurtosis: {:06.2f}'.format(X_train[col].kurt())  \n",
        "         )"
      ],
      "execution_count": null,
      "outputs": [
        {
          "output_type": "stream",
          "text": [
            "              0 Skewness: -0.00     Kurtosis: -01.36\n",
            "              1 Skewness: 00.00     Kurtosis: -01.22\n",
            "              2 Skewness: -0.00     Kurtosis: -01.36\n",
            "              3 Skewness: -0.00     Kurtosis: -01.22\n",
            "              4 Skewness: -0.00     Kurtosis: -01.36\n",
            "              5 Skewness: -0.00     Kurtosis: -01.21\n",
            "              6 Skewness: -0.00     Kurtosis: -01.36\n",
            "              7 Skewness: -0.00     Kurtosis: -01.21\n",
            "              8 Skewness: 00.00     Kurtosis: -01.36\n",
            "              9 Skewness: 00.00     Kurtosis: -01.21\n"
          ],
          "name": "stdout"
        }
      ]
    },
    {
      "cell_type": "code",
      "metadata": {
        "id": "O9GB29KuyNvm"
      },
      "source": [
        "#Smote for fixing data imbalance \n",
        "from imblearn.over_sampling import SMOTE\n",
        "def balance_data(training_data, training_classes):\n",
        "  sc = SMOTE(sampling_strategy='minority', random_state=101,k_neighbors=1,kind=\"regular\")\n",
        "  training_data = np.array(training_data)\n",
        "  training_classes = np.array(training_classes)\n",
        "  X_balanced, y_balanced = sc.fit_sample(training_data, training_classes)\n",
        "  return X_balanced, y_balanced "
      ],
      "execution_count": null,
      "outputs": []
    },
    {
      "cell_type": "code",
      "metadata": {
        "colab": {
          "base_uri": "https://localhost:8080/"
        },
        "id": "0XjIVp4izVjt",
        "outputId": "777ef080-7bf9-41ee-e521-cec8868871a9"
      },
      "source": [
        "train , labels = balance_data(train, labels)"
      ],
      "execution_count": null,
      "outputs": [
        {
          "output_type": "stream",
          "text": [
            "/usr/local/lib/python3.6/dist-packages/sklearn/utils/deprecation.py:87: FutureWarning: Function safe_indexing is deprecated; safe_indexing is deprecated in version 0.22 and will be removed in version 0.24.\n",
            "  warnings.warn(msg, category=FutureWarning)\n"
          ],
          "name": "stderr"
        }
      ]
    },
    {
      "cell_type": "code",
      "metadata": {
        "colab": {
          "base_uri": "https://localhost:8080/"
        },
        "id": "6dK4fD3sN029",
        "outputId": "f353bb1f-4250-457f-b560-04f42c4f7007"
      },
      "source": [
        "#we balance the training data by oversampling the minority data samples \n",
        "train.shape"
      ],
      "execution_count": null,
      "outputs": [
        {
          "output_type": "execute_result",
          "data": {
            "text/plain": [
              "(1501204, 11)"
            ]
          },
          "metadata": {
            "tags": []
          },
          "execution_count": 159
        }
      ]
    }
  ]
}