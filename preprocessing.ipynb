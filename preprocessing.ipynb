{
 "cells": [
  {
   "cell_type": "code",
   "execution_count": 4,
   "metadata": {},
   "outputs": [
    {
     "name": "stdout",
     "output_type": "stream",
     "text": [
      "        S1  C1  S2  C2  S3  C3  S4  C4  S5  C5  CLASS\n",
      "0        3  12   3   2   3  11   4   5   2   5      1\n",
      "1        1   9   4   6   1   4   3   2   3   9      1\n",
      "2        1   4   3  13   2  13   2   1   3   6      1\n",
      "3        3  10   2   7   1   2   2  11   4   9      0\n",
      "4        1   3   4   5   3   4   1  12   4   6      0\n",
      "...     ..  ..  ..  ..  ..  ..  ..  ..  ..  ..    ...\n",
      "999994   3   1   1  12   2   9   4   9   2   6      1\n",
      "999995   3   3   4   5   2   7   1   4   4   3      1\n",
      "999996   1  11   4   7   3   9   1  13   2   7      1\n",
      "999997   3  11   1   8   1   1   3  13   2   8      1\n",
      "999998   2   5   2   9   4   9   2   3   3   3      2\n",
      "\n",
      "[999999 rows x 11 columns]\n"
     ]
    }
   ],
   "source": [
    "import pandas as pd\n",
    "\n",
    "data = pd.read_csv('./poker-hand-testing.data', delimiter=\",\")\n",
    "data.columns = ['S1', 'C1', 'S2', 'C2', 'S3', 'C3', 'S4', 'C4', 'S5', 'C5', 'CLASS']\n",
    "print(data)"
   ]
  },
  {
   "cell_type": "code",
   "execution_count": null,
   "metadata": {},
   "outputs": [],
   "source": []
  }
 ],
 "metadata": {
  "kernelspec": {
   "display_name": "Python 3",
   "language": "python",
   "name": "python3"
  },
  "language_info": {
   "codemirror_mode": {
    "name": "ipython",
    "version": 3
   },
   "file_extension": ".py",
   "mimetype": "text/x-python",
   "name": "python",
   "nbconvert_exporter": "python",
   "pygments_lexer": "ipython3",
   "version": "3.8.3"
  }
 },
 "nbformat": 4,
 "nbformat_minor": 4
}
