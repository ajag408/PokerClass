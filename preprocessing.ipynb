{
  "nbformat": 4,
  "nbformat_minor": 0,
  "metadata": {
    "kernelspec": {
      "display_name": "Python 3",
      "language": "python",
      "name": "python3"
    },
    "language_info": {
      "codemirror_mode": {
        "name": "ipython",
        "version": 3
      },
      "file_extension": ".py",
      "mimetype": "text/x-python",
      "name": "python",
      "nbconvert_exporter": "python",
      "pygments_lexer": "ipython3",
      "version": "3.8.3"
    },
    "colab": {
      "name": "preprocessing.ipynb",
      "provenance": [],
      "include_colab_link": true
    }
  },
  "cells": [
    {
      "cell_type": "markdown",
      "metadata": {
        "id": "view-in-github",
        "colab_type": "text"
      },
      "source": [
        "<a href=\"https://colab.research.google.com/github/ajag408/PokerClass/blob/main/preprocessing.ipynb\" target=\"_parent\"><img src=\"https://colab.research.google.com/assets/colab-badge.svg\" alt=\"Open In Colab\"/></a>"
      ]
    },
    {
      "cell_type": "code",
      "metadata": {
        "id": "4NEO4J9HrAyn",
        "outputId": "12b28e7e-2602-460f-dafe-cbd49ebc6388",
        "colab": {
          "base_uri": "https://localhost:8080/"
        }
      },
      "source": [
        "#use this to mount your drive\n",
        "\n",
        "from google.colab import drive\n",
        "drive.mount('/content/drive')"
      ],
      "execution_count": 2,
      "outputs": [
        {
          "output_type": "stream",
          "text": [
            "Mounted at /content/drive\n"
          ],
          "name": "stdout"
        }
      ]
    },
    {
      "cell_type": "code",
      "metadata": {
        "id": "ZsCe7YqSrSj2",
        "outputId": "3d1edada-95dc-4722-b064-4d4b8d2dab7e",
        "colab": {
          "base_uri": "https://localhost:8080/"
        }
      },
      "source": [
        "#  %cd into /content/drive/Shared\\ drives/255Project/PokerClass   (u have to use % in front of command)\n",
        "\n",
        "%cd Shared\\ drives/255Project/PokerClass\n",
        "\n",
        "#when saving changes, click on File -> Save a copy in GitHub.  Repo is \"ajag408/PokerClass\" and branch is \"main\""
      ],
      "execution_count": 12,
      "outputs": [
        {
          "output_type": "stream",
          "text": [
            "/content/drive/Shared drives/255Project/PokerClass\n"
          ],
          "name": "stdout"
        }
      ]
    },
    {
      "cell_type": "code",
      "metadata": {
        "id": "VeZY70YLp2Uk",
        "outputId": "04a69ce5-9976-46e9-b9f0-980e06c3b4b6",
        "colab": {
          "base_uri": "https://localhost:8080/"
        }
      },
      "source": [
        "#proposing switching training and test sets, since test is way larger\n",
        "\n",
        "import pandas as pd\n",
        "\n",
        "train = pd.read_csv('./Data/poker-hand-testing.data', delimiter=\",\")\n",
        "train.columns = ['S1', 'C1', 'S2', 'C2', 'S3', 'C3', 'S4', 'C4', 'S5', 'C5', 'CLASS']\n",
        "print(train)"
      ],
      "execution_count": 13,
      "outputs": [
        {
          "output_type": "stream",
          "text": [
            "        S1  C1  S2  C2  S3  C3  S4  C4  S5  C5  CLASS\n",
            "0        3  12   3   2   3  11   4   5   2   5      1\n",
            "1        1   9   4   6   1   4   3   2   3   9      1\n",
            "2        1   4   3  13   2  13   2   1   3   6      1\n",
            "3        3  10   2   7   1   2   2  11   4   9      0\n",
            "4        1   3   4   5   3   4   1  12   4   6      0\n",
            "...     ..  ..  ..  ..  ..  ..  ..  ..  ..  ..    ...\n",
            "999994   3   1   1  12   2   9   4   9   2   6      1\n",
            "999995   3   3   4   5   2   7   1   4   4   3      1\n",
            "999996   1  11   4   7   3   9   1  13   2   7      1\n",
            "999997   3  11   1   8   1   1   3  13   2   8      1\n",
            "999998   2   5   2   9   4   9   2   3   3   3      2\n",
            "\n",
            "[999999 rows x 11 columns]\n"
          ],
          "name": "stdout"
        }
      ]
    },
    {
      "cell_type": "code",
      "metadata": {
        "id": "0rfdN0pvhiLJ",
        "outputId": "07e6a469-15c7-41b5-b712-07817f0eb85e",
        "colab": {
          "base_uri": "https://localhost:8080/"
        }
      },
      "source": [
        "test = pd.read_csv('./Data/poker-hand-training-true.data', delimiter=\",\")\n",
        "test.columns = ['S1', 'C1', 'S2', 'C2', 'S3', 'C3', 'S4', 'C4', 'S5', 'C5', 'CLASS']\n",
        "print(test)"
      ],
      "execution_count": 14,
      "outputs": [
        {
          "output_type": "stream",
          "text": [
            "       S1  C1  S2  C2  S3  C3  S4  C4  S5  C5  CLASS\n",
            "0       2  11   2  13   2  10   2  12   2   1      9\n",
            "1       3  12   3  11   3  13   3  10   3   1      9\n",
            "2       4  10   4  11   4   1   4  13   4  12      9\n",
            "3       4   1   4  13   4  12   4  11   4  10      9\n",
            "4       1   2   1   4   1   5   1   3   1   6      8\n",
            "...    ..  ..  ..  ..  ..  ..  ..  ..  ..  ..    ...\n",
            "25004   3   9   2   6   4  11   4  12   2   4      0\n",
            "25005   4   1   4  10   3  13   3   4   1  10      1\n",
            "25006   2   1   2  10   4   4   4   1   4  13      1\n",
            "25007   2  12   4   3   1  10   1  12   4   9      1\n",
            "25008   1   7   3  11   3   3   4   8   3   7      1\n",
            "\n",
            "[25009 rows x 11 columns]\n"
          ],
          "name": "stdout"
        }
      ]
    },
    {
      "cell_type": "code",
      "metadata": {
        "id": "rjPDc-YmkaFw",
        "outputId": "7c3c4751-b21f-4d0a-9d72-8593a9d1f2d6",
        "colab": {
          "base_uri": "https://localhost:8080/"
        }
      },
      "source": [
        "#preprocessing, do same thing on each set separately\n",
        "\n",
        "# check missing values\n",
        "\n",
        "train.isnull().any().any()\n",
        "\n",
        "test.isnull().any().any()"
      ],
      "execution_count": 15,
      "outputs": [
        {
          "output_type": "execute_result",
          "data": {
            "text/plain": [
              "False"
            ]
          },
          "metadata": {
            "tags": []
          },
          "execution_count": 15
        }
      ]
    },
    {
      "cell_type": "code",
      "metadata": {
        "id": "5fgHOp3AkhCc",
        "outputId": "0bc78514-a82f-4abe-f409-22259a34f82d",
        "colab": {
          "base_uri": "https://localhost:8080/"
        }
      },
      "source": [
        "#check if any attributes have zero variance across instances (same value in all samples, these should therefore\n",
        "#be considered meaningless)\n",
        "\n",
        "from sklearn import feature_selection\n",
        "print(\"training\")\n",
        "print(train.shape)\n",
        "sel = feature_selection.VarianceThreshold()\n",
        "train_variance = sel.fit_transform(train)\n",
        "\n",
        "train = pd.DataFrame(train_variance)\n",
        "print(train.shape)\n",
        "\n",
        "print('\\n')\n",
        "print(\"testing\")\n",
        "print(test.shape)\n",
        "\n",
        "test_variance = sel.fit_transform(test)\n",
        "\n",
        "test = pd.DataFrame(test_variance)\n",
        "print(test.shape)\n",
        "\n"
      ],
      "execution_count": 16,
      "outputs": [
        {
          "output_type": "stream",
          "text": [
            "training\n",
            "(999999, 11)\n",
            "(999999, 11)\n",
            "\n",
            "\n",
            "testing\n",
            "(25009, 11)\n",
            "(25009, 11)\n"
          ],
          "name": "stdout"
        }
      ]
    },
    {
      "cell_type": "code",
      "metadata": {
        "id": "6byAAl1cnh25",
        "outputId": "35794bf3-1235-46f6-b94d-53a91e016f14",
        "colab": {
          "base_uri": "https://localhost:8080/"
        }
      },
      "source": [
        "# correlation of features to image class\n",
        "corr_matrix = train.corr().abs()\n",
        "print(corr_matrix[10].sort_values(ascending=False))"
      ],
      "execution_count": 19,
      "outputs": [
        {
          "output_type": "stream",
          "text": [
            "10    1.000000\n",
            "1     0.003876\n",
            "7     0.003010\n",
            "5     0.002482\n",
            "3     0.001712\n",
            "9     0.001604\n",
            "8     0.001515\n",
            "4     0.001194\n",
            "6     0.001157\n",
            "2     0.000196\n",
            "0     0.000030\n",
            "Name: 10, dtype: float64\n"
          ],
          "name": "stdout"
        }
      ]
    },
    {
      "cell_type": "markdown",
      "metadata": {
        "id": "NV1psxyYn0tt"
      },
      "source": [
        "All features seem to have very low corelation to target"
      ]
    },
    {
      "cell_type": "code",
      "metadata": {
        "id": "p1TVWmV5n4ld",
        "outputId": "44a4d7b2-7647-43ac-b6e4-1be8c7e0ac96",
        "colab": {
          "base_uri": "https://localhost:8080/",
          "height": 721
        }
      },
      "source": [
        "#visualize correlation\n",
        "import seaborn as sns\n",
        "import matplotlib.pyplot as plt\n",
        "\n",
        "corr_matrix = train.corr().abs()\n",
        "plt.subplots(figsize=(15,12))\n",
        "sns.heatmap(corr_matrix, vmax=0.9, cmap=\"Blues\", square=True)"
      ],
      "execution_count": 20,
      "outputs": [
        {
          "output_type": "execute_result",
          "data": {
            "text/plain": [
              "<matplotlib.axes._subplots.AxesSubplot at 0x7f25527f56d8>"
            ]
          },
          "metadata": {
            "tags": []
          },
          "execution_count": 20
        },
        {
          "output_type": "display_data",
          "data": {
            "image/png": "[encoded data removed]",
            "text/plain": [
              "<Figure size 1080x864 with 2 Axes>"
            ]
          },
          "metadata": {
            "tags": [],
            "needs_background": "light"
          }
        }
      ]
    },
    {
      "cell_type": "code",
      "metadata": {
        "id": "pX4F5KnXo5nb",
        "outputId": "c65d7555-9e36-48dd-bc42-9864211b1c5d",
        "colab": {
          "base_uri": "https://localhost:8080/"
        }
      },
      "source": [
        "#check distribution of data\n",
        "\n",
        "X_train = train.iloc[:,:10].copy()\n",
        "X_test = test.iloc[:,:10].copy()\n",
        "\n",
        "for col in X_train:\n",
        "    print('{:15}'.format(col), \n",
        "          'Skewness: {:05.2f}'.format(X_train[col].skew()) , \n",
        "          '   ' ,\n",
        "          'Kurtosis: {:06.2f}'.format(X_train[col].kurt())  \n",
        "         )"
      ],
      "execution_count": 25,
      "outputs": [
        {
          "output_type": "stream",
          "text": [
            "              0 Skewness: -0.00     Kurtosis: -01.36\n",
            "              1 Skewness: 00.00     Kurtosis: -01.22\n",
            "              2 Skewness: -0.00     Kurtosis: -01.36\n",
            "              3 Skewness: -0.00     Kurtosis: -01.22\n",
            "              4 Skewness: -0.00     Kurtosis: -01.36\n",
            "              5 Skewness: -0.00     Kurtosis: -01.21\n",
            "              6 Skewness: -0.00     Kurtosis: -01.36\n",
            "              7 Skewness: -0.00     Kurtosis: -01.21\n",
            "              8 Skewness: 00.00     Kurtosis: -01.36\n",
            "              9 Skewness: 00.00     Kurtosis: -01.21\n"
          ],
          "name": "stdout"
        }
      ]
    },
    {
      "cell_type": "code",
      "metadata": {
        "id": "vL8mAJccq8No"
      },
      "source": [
        ""
      ],
      "execution_count": 27,
      "outputs": []
    },
    {
      "cell_type": "code",
      "metadata": {
        "id": "uUErjLVEpb0B",
        "outputId": "6368ac07-38c1-482d-f294-371a10a60de2",
        "colab": {
          "base_uri": "https://localhost:8080/"
        }
      },
      "source": [
        "#using StandardScaler for standardization since distribution seams approximately normal\n",
        "\n",
        "from sklearn.preprocessing import StandardScaler\n",
        "\n",
        "scaler = StandardScaler()\n",
        "X_train = pd.DataFrame(scaler.fit_transform(X_train))\n",
        "X_test = pd.DataFrame(scaler.fit_transform(X_test))\n",
        "\n",
        "for col in X_train:\n",
        "    print('{:15}'.format(col), \n",
        "          'Skewness: {:05.2f}'.format(X_train[col].skew()) , \n",
        "          '   ' ,\n",
        "          'Kurtosis: {:06.2f}'.format(X_train[col].kurt())  \n",
        "         )"
      ],
      "execution_count": 29,
      "outputs": [
        {
          "output_type": "stream",
          "text": [
            "              0 Skewness: -0.00     Kurtosis: -01.36\n",
            "              1 Skewness: 00.00     Kurtosis: -01.22\n",
            "              2 Skewness: -0.00     Kurtosis: -01.36\n",
            "              3 Skewness: -0.00     Kurtosis: -01.22\n",
            "              4 Skewness: -0.00     Kurtosis: -01.36\n",
            "              5 Skewness: -0.00     Kurtosis: -01.21\n",
            "              6 Skewness: -0.00     Kurtosis: -01.36\n",
            "              7 Skewness: -0.00     Kurtosis: -01.21\n",
            "              8 Skewness: 00.00     Kurtosis: -01.36\n",
            "              9 Skewness: 00.00     Kurtosis: -01.21\n"
          ],
          "name": "stdout"
        }
      ]
    }
  ]
}