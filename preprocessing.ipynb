{
  "nbformat": 4,
  "nbformat_minor": 0,
  "metadata": {
    "kernelspec": {
      "display_name": "Python 3",
      "language": "python",
      "name": "python3"
    },
    "language_info": {
      "codemirror_mode": {
        "name": "ipython",
        "version": 3
      },
      "file_extension": ".py",
      "mimetype": "text/x-python",
      "name": "python",
      "nbconvert_exporter": "python",
      "pygments_lexer": "ipython3",
      "version": "3.8.3"
    },
    "colab": {
      "name": "preprocessing.ipynb",
      "provenance": [],
      "include_colab_link": true
    }
  },
  "cells": [
    {
      "cell_type": "markdown",
      "metadata": {
        "id": "view-in-github",
        "colab_type": "text"
      },
      "source": [
        "<a href=\"https://colab.research.google.com/github/ajag408/PokerClass/blob/main/preprocessing.ipynb\" target=\"_parent\"><img src=\"https://colab.research.google.com/assets/colab-badge.svg\" alt=\"Open In Colab\"/></a>"
      ]
    },
    {
      "cell_type": "code",
      "metadata": {
        "id": "4NEO4J9HrAyn",
        "outputId": "b498cda8-5fad-43e5-d1b9-5f09c6633ba1",
        "colab": {
          "base_uri": "https://localhost:8080/"
        }
      },
      "source": [
        "#use this to mount your drive\n",
        "\n",
        "from google.colab import drive\n",
        "drive.mount('/content/drive')"
      ],
      "execution_count": 26,
      "outputs": [
        {
          "output_type": "stream",
          "text": [
            "Drive already mounted at /content/drive; to attempt to forcibly remount, call drive.mount(\"/content/drive\", force_remount=True).\n"
          ],
          "name": "stdout"
        }
      ]
    },
    {
      "cell_type": "code",
      "metadata": {
        "id": "ZsCe7YqSrSj2",
        "outputId": "2f654063-291b-4e1a-c9fb-2800fe56471a",
        "colab": {
          "base_uri": "https://localhost:8080/"
        }
      },
      "source": [
        "#cd into /content/drive/Shared\\ drives/255Project/PokerClass\n",
        "\n",
        "#when saving changes, click on File -> Save a copy in GitHub.  Repo is \"ajag408/PokerClass\" and branch is \"main\""
      ],
      "execution_count": 34,
      "outputs": [
        {
          "output_type": "stream",
          "text": [
            "\u001b[0m\u001b[01;34mData\u001b[0m/  preprocessing.ipynb\n"
          ],
          "name": "stdout"
        }
      ]
    },
    {
      "cell_type": "code",
      "metadata": {
        "id": "VeZY70YLp2Uk",
        "outputId": "04910363-55d6-4cae-b4fb-0b03f86edd8b",
        "colab": {
          "base_uri": "https://localhost:8080/"
        }
      },
      "source": [
        "import pandas as pd\n",
        "\n",
        "train = pd.read_csv('./Data/poker-hand-training-true.data', delimiter=\",\")\n",
        "train.columns = ['S1', 'C1', 'S2', 'C2', 'S3', 'C3', 'S4', 'C4', 'S5', 'C5', 'CLASS']\n",
        "print(train)"
      ],
      "execution_count": 35,
      "outputs": [
        {
          "output_type": "stream",
          "text": [
            "       S1  C1  S2  C2  S3  C3  S4  C4  S5  C5  CLASS\n",
            "0       2  11   2  13   2  10   2  12   2   1      9\n",
            "1       3  12   3  11   3  13   3  10   3   1      9\n",
            "2       4  10   4  11   4   1   4  13   4  12      9\n",
            "3       4   1   4  13   4  12   4  11   4  10      9\n",
            "4       1   2   1   4   1   5   1   3   1   6      8\n",
            "...    ..  ..  ..  ..  ..  ..  ..  ..  ..  ..    ...\n",
            "25004   3   9   2   6   4  11   4  12   2   4      0\n",
            "25005   4   1   4  10   3  13   3   4   1  10      1\n",
            "25006   2   1   2  10   4   4   4   1   4  13      1\n",
            "25007   2  12   4   3   1  10   1  12   4   9      1\n",
            "25008   1   7   3  11   3   3   4   8   3   7      1\n",
            "\n",
            "[25009 rows x 11 columns]\n"
          ],
          "name": "stdout"
        }
      ]
    },
    {
      "cell_type": "code",
      "metadata": {
        "id": "gAUjMJDMp2Uu",
        "outputId": "5a503353-677d-491d-d2af-3d599dd73ba9",
        "colab": {
          "base_uri": "https://localhost:8080/"
        }
      },
      "source": [
        "test = pd.read_csv('./Data/poker-hand-testing.data', delimiter=\",\")\n",
        "test.columns = ['S1', 'C1', 'S2', 'C2', 'S3', 'C3', 'S4', 'C4', 'S5', 'C5', 'CLASS']\n",
        "print(test)"
      ],
      "execution_count": 37,
      "outputs": [
        {
          "output_type": "stream",
          "text": [
            "        S1  C1  S2  C2  S3  C3  S4  C4  S5  C5  CLASS\n",
            "0        3  12   3   2   3  11   4   5   2   5      1\n",
            "1        1   9   4   6   1   4   3   2   3   9      1\n",
            "2        1   4   3  13   2  13   2   1   3   6      1\n",
            "3        3  10   2   7   1   2   2  11   4   9      0\n",
            "4        1   3   4   5   3   4   1  12   4   6      0\n",
            "...     ..  ..  ..  ..  ..  ..  ..  ..  ..  ..    ...\n",
            "999994   3   1   1  12   2   9   4   9   2   6      1\n",
            "999995   3   3   4   5   2   7   1   4   4   3      1\n",
            "999996   1  11   4   7   3   9   1  13   2   7      1\n",
            "999997   3  11   1   8   1   1   3  13   2   8      1\n",
            "999998   2   5   2   9   4   9   2   3   3   3      2\n",
            "\n",
            "[999999 rows x 11 columns]\n"
          ],
          "name": "stdout"
        }
      ]
    }
  ]
}